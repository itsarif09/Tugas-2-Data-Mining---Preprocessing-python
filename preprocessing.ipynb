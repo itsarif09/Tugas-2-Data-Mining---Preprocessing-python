{
  "nbformat": 4,
  "nbformat_minor": 0,
  "metadata": {
    "colab": {
      "name": "preprocessing.ipynb",
      "provenance": [],
      "collapsed_sections": []
    },
    "kernelspec": {
      "name": "python3",
      "display_name": "Python 3"
    },
    "language_info": {
      "name": "python"
    }
  },
  "cells": [
    {
      "cell_type": "code",
      "execution_count": 67,
      "metadata": {
        "id": "SqPr3L5WxbLd"
      },
      "outputs": [],
      "source": [
        "import numpy as np\n",
        "import matplotlib.pyplot as plt\n",
        "import pandas as pd"
      ]
    },
    {
      "cell_type": "code",
      "source": [
        "dataset = pd.read_csv('Data.csv')\n",
        "x = dataset.iloc[:,:-1].values\n",
        "y = dataset.iloc[:,-1].values"
      ],
      "metadata": {
        "id": "KfuPD83FyAHG"
      },
      "execution_count": 68,
      "outputs": []
    },
    {
      "cell_type": "code",
      "source": [
        "print(x)"
      ],
      "metadata": {
        "id": "VOVRZvPkyQTn",
        "colab": {
          "base_uri": "https://localhost:8080/"
        },
        "outputId": "93d34d89-6e98-4ab8-ceb4-c910bd2f0552"
      },
      "execution_count": 69,
      "outputs": [
        {
          "output_type": "stream",
          "name": "stdout",
          "text": [
            "[['Malaysia' 30.0 50000.0]\n",
            " ['Thailand' 50.0 35000.0]\n",
            " ['Vietnam' 70.0 55000.0]\n",
            " ['Indonesia' 45.0 65000.0]\n",
            " ['Japan' 78.0 nan]\n",
            " ['Vietnam' 76.0 40000.0]\n",
            " ['Indonesia' nan 66000.0]\n",
            " ['Malaysia' 40.0 60000.0]\n",
            " ['Filipina' 67.0 nan]\n",
            " ['Indonesia' 55.0 40000.0]\n",
            " ['Vietnam' 45.0 35000.0]\n",
            " ['Singapura' nan 66000.0]\n",
            " ['Japan' 33.0 60000.0]\n",
            " ['Indonesia' 80.0 nan]]\n"
          ]
        }
      ]
    },
    {
      "cell_type": "code",
      "source": [
        "print(y)"
      ],
      "metadata": {
        "id": "3Ow_3tlUysJO",
        "colab": {
          "base_uri": "https://localhost:8080/"
        },
        "outputId": "8f8c3288-98f5-48c6-fbbc-65a20e856020"
      },
      "execution_count": 70,
      "outputs": [
        {
          "output_type": "stream",
          "name": "stdout",
          "text": [
            "['No' 'Yes' 'No' 'No' 'Yes' 'Yes' 'No' 'No' 'Yes' 'Yes' 'No' 'No' 'No'\n",
            " 'Yes']\n"
          ]
        }
      ]
    },
    {
      "cell_type": "code",
      "source": [
        "from sklearn.impute import SimpleImputer\n",
        "imputer = SimpleImputer(missing_values=np.nan, strategy='mean')\n",
        "imputer.fit(x[:,1:3])\n",
        "x[:, 1:3] =imputer.transform(x[:,1:3])"
      ],
      "metadata": {
        "id": "_a64u63LzhDs"
      },
      "execution_count": 71,
      "outputs": []
    },
    {
      "cell_type": "code",
      "source": [
        "print(x)"
      ],
      "metadata": {
        "colab": {
          "base_uri": "https://localhost:8080/"
        },
        "id": "p2BiHkXaB7B0",
        "outputId": "d2f33ef7-189a-4700-ab92-6248d63a6eae"
      },
      "execution_count": 72,
      "outputs": [
        {
          "output_type": "stream",
          "name": "stdout",
          "text": [
            "[['Malaysia' 30.0 50000.0]\n",
            " ['Thailand' 50.0 35000.0]\n",
            " ['Vietnam' 70.0 55000.0]\n",
            " ['Indonesia' 45.0 65000.0]\n",
            " ['Japan' 78.0 52000.0]\n",
            " ['Vietnam' 76.0 40000.0]\n",
            " ['Indonesia' 55.75 66000.0]\n",
            " ['Malaysia' 40.0 60000.0]\n",
            " ['Filipina' 67.0 52000.0]\n",
            " ['Indonesia' 55.0 40000.0]\n",
            " ['Vietnam' 45.0 35000.0]\n",
            " ['Singapura' 55.75 66000.0]\n",
            " ['Japan' 33.0 60000.0]\n",
            " ['Indonesia' 80.0 52000.0]]\n"
          ]
        }
      ]
    },
    {
      "cell_type": "code",
      "source": [
        "from sklearn.compose import ColumnTransformer\n",
        "from sklearn.preprocessing import OneHotEncoder\n",
        "ct = ColumnTransformer(transformers=[('encoder',OneHotEncoder(),[0])], remainder='passthrough')\n",
        "x = np.array(ct.fit_transform(x))"
      ],
      "metadata": {
        "id": "Yr1G2JRlGAVR"
      },
      "execution_count": 73,
      "outputs": []
    },
    {
      "cell_type": "code",
      "source": [
        "print(x)"
      ],
      "metadata": {
        "colab": {
          "base_uri": "https://localhost:8080/"
        },
        "id": "U-iIwDwhGHDq",
        "outputId": "f6ade644-3f75-4d61-c812-8074ce3b01c0"
      },
      "execution_count": 74,
      "outputs": [
        {
          "output_type": "stream",
          "name": "stdout",
          "text": [
            "[[0.0 0.0 0.0 1.0 0.0 0.0 0.0 30.0 50000.0]\n",
            " [0.0 0.0 0.0 0.0 0.0 1.0 0.0 50.0 35000.0]\n",
            " [0.0 0.0 0.0 0.0 0.0 0.0 1.0 70.0 55000.0]\n",
            " [0.0 1.0 0.0 0.0 0.0 0.0 0.0 45.0 65000.0]\n",
            " [0.0 0.0 1.0 0.0 0.0 0.0 0.0 78.0 52000.0]\n",
            " [0.0 0.0 0.0 0.0 0.0 0.0 1.0 76.0 40000.0]\n",
            " [0.0 1.0 0.0 0.0 0.0 0.0 0.0 55.75 66000.0]\n",
            " [0.0 0.0 0.0 1.0 0.0 0.0 0.0 40.0 60000.0]\n",
            " [1.0 0.0 0.0 0.0 0.0 0.0 0.0 67.0 52000.0]\n",
            " [0.0 1.0 0.0 0.0 0.0 0.0 0.0 55.0 40000.0]\n",
            " [0.0 0.0 0.0 0.0 0.0 0.0 1.0 45.0 35000.0]\n",
            " [0.0 0.0 0.0 0.0 1.0 0.0 0.0 55.75 66000.0]\n",
            " [0.0 0.0 1.0 0.0 0.0 0.0 0.0 33.0 60000.0]\n",
            " [0.0 1.0 0.0 0.0 0.0 0.0 0.0 80.0 52000.0]]\n"
          ]
        }
      ]
    },
    {
      "cell_type": "code",
      "source": [
        "from sklearn.preprocessing import LabelEncoder\n",
        "le = LabelEncoder()\n",
        "y = le.fit_transform(y)"
      ],
      "metadata": {
        "id": "I0Hab_8EGHrx"
      },
      "execution_count": 75,
      "outputs": []
    },
    {
      "cell_type": "code",
      "source": [
        "print(y)"
      ],
      "metadata": {
        "colab": {
          "base_uri": "https://localhost:8080/"
        },
        "id": "xaanWRZEGKB0",
        "outputId": "f83389bc-1955-4cee-8b5b-7ba178682213"
      },
      "execution_count": 76,
      "outputs": [
        {
          "output_type": "stream",
          "name": "stdout",
          "text": [
            "[0 1 0 0 1 1 0 0 1 1 0 0 0 1]\n"
          ]
        }
      ]
    },
    {
      "cell_type": "code",
      "source": [
        "from sklearn.model_selection import train_test_split\n",
        "x_train, x_test, y_train, y_test = train_test_split(x,y,test_size=0.2, random_state=1)"
      ],
      "metadata": {
        "id": "yHsxNlfMGMCt"
      },
      "execution_count": 77,
      "outputs": []
    },
    {
      "cell_type": "code",
      "source": [
        "print(x_train)"
      ],
      "metadata": {
        "colab": {
          "base_uri": "https://localhost:8080/"
        },
        "id": "bS-USEX3GMJT",
        "outputId": "fb8e4a29-7ada-4bcf-a0df-278f32eaa4ed"
      },
      "execution_count": 78,
      "outputs": [
        {
          "output_type": "stream",
          "name": "stdout",
          "text": [
            "[[0.0 0.0 0.0 0.0 0.0 0.0 1.0 70.0 55000.0]\n",
            " [0.0 0.0 0.0 0.0 0.0 0.0 1.0 45.0 35000.0]\n",
            " [0.0 0.0 1.0 0.0 0.0 0.0 0.0 78.0 52000.0]\n",
            " [0.0 0.0 0.0 0.0 0.0 1.0 0.0 50.0 35000.0]\n",
            " [0.0 0.0 1.0 0.0 0.0 0.0 0.0 33.0 60000.0]\n",
            " [0.0 0.0 0.0 1.0 0.0 0.0 0.0 30.0 50000.0]\n",
            " [0.0 1.0 0.0 0.0 0.0 0.0 0.0 80.0 52000.0]\n",
            " [0.0 1.0 0.0 0.0 0.0 0.0 0.0 55.0 40000.0]\n",
            " [1.0 0.0 0.0 0.0 0.0 0.0 0.0 67.0 52000.0]\n",
            " [0.0 0.0 0.0 0.0 1.0 0.0 0.0 55.75 66000.0]\n",
            " [0.0 0.0 0.0 0.0 0.0 0.0 1.0 76.0 40000.0]]\n"
          ]
        }
      ]
    },
    {
      "cell_type": "code",
      "source": [
        "print(x_test)"
      ],
      "metadata": {
        "colab": {
          "base_uri": "https://localhost:8080/"
        },
        "id": "3CIjMWOOGWW4",
        "outputId": "642986c5-8090-4bc0-89ef-900db8cbeca9"
      },
      "execution_count": 79,
      "outputs": [
        {
          "output_type": "stream",
          "name": "stdout",
          "text": [
            "[[0.0 1.0 0.0 0.0 0.0 0.0 0.0 45.0 65000.0]\n",
            " [0.0 0.0 0.0 1.0 0.0 0.0 0.0 40.0 60000.0]\n",
            " [0.0 1.0 0.0 0.0 0.0 0.0 0.0 55.75 66000.0]]\n"
          ]
        }
      ]
    },
    {
      "cell_type": "code",
      "source": [
        "print(y_train)"
      ],
      "metadata": {
        "colab": {
          "base_uri": "https://localhost:8080/"
        },
        "id": "eVnJI4CAGeY5",
        "outputId": "ed0b2fab-6af2-45f4-ff6c-11811d188df9"
      },
      "execution_count": 80,
      "outputs": [
        {
          "output_type": "stream",
          "name": "stdout",
          "text": [
            "[0 0 1 1 0 0 1 1 1 0 1]\n"
          ]
        }
      ]
    },
    {
      "cell_type": "code",
      "source": [
        "print(y_test)"
      ],
      "metadata": {
        "colab": {
          "base_uri": "https://localhost:8080/"
        },
        "id": "bw8QC0DoGgRy",
        "outputId": "2574ea81-8d09-4c16-a470-d6c585a181ef"
      },
      "execution_count": 81,
      "outputs": [
        {
          "output_type": "stream",
          "name": "stdout",
          "text": [
            "[0 0 0]\n"
          ]
        }
      ]
    },
    {
      "cell_type": "code",
      "source": [
        "from sklearn.preprocessing import StandardScaler\n",
        "sc = StandardScaler()\n",
        "x_train[:,3:] = sc.fit_transform(x_train[:,3:])\n",
        "x_test[:,3:] = sc.transform(x_test[:,3:])"
      ],
      "metadata": {
        "id": "Z5tcm5-bGiDc"
      },
      "execution_count": 82,
      "outputs": []
    },
    {
      "cell_type": "code",
      "source": [
        "print(x_train)"
      ],
      "metadata": {
        "colab": {
          "base_uri": "https://localhost:8080/"
        },
        "id": "wrSlmrC5GkNd",
        "outputId": "544ba937-c0bf-44d2-d3a4-c272bafb7cff"
      },
      "execution_count": 83,
      "outputs": [
        {
          "output_type": "stream",
          "name": "stdout",
          "text": [
            "[[0.0 0.0 0.0 -0.316227766016838 -0.31622776601683794 -0.316227766016838\n",
            "  1.632993161855452 0.706622746604209 0.6395770010475138]\n",
            " [0.0 0.0 0.0 -0.316227766016838 -0.31622776601683794 -0.316227766016838\n",
            "  1.632993161855452 -0.7852870830783816 -1.4296427082238539]\n",
            " [0.0 0.0 1.0 -0.316227766016838 -0.31622776601683794 -0.316227766016838\n",
            "  -0.6123724356957945 1.1840338921026379 0.3291940446568087]\n",
            " [0.0 0.0 0.0 -0.316227766016838 -0.31622776601683794 3.16227766016838\n",
            "  -0.6123724356957945 -0.48690511714186346 -1.4296427082238539]\n",
            " [0.0 0.0 1.0 -0.316227766016838 -0.31622776601683794 -0.316227766016838\n",
            "  -0.6123724356957945 -1.5014038013260251 1.1568819283653557]\n",
            " [0.0 0.0 0.0 3.16227766016838 -0.31622776601683794 -0.316227766016838\n",
            "  -0.6123724356957945 -1.680432980887936 0.12227207372967193]\n",
            " [0.0 1.0 0.0 -0.316227766016838 -0.31622776601683794 -0.316227766016838\n",
            "  -0.6123724356957945 1.3033866784772452 0.3291940446568087]\n",
            " [0.0 1.0 0.0 -0.316227766016838 -0.31622776601683794 -0.316227766016838\n",
            "  -0.6123724356957945 -0.18852315120534538 -0.9123377809060119]\n",
            " [1.0 0.0 0.0 -0.316227766016838 -0.31622776601683794 -0.316227766016838\n",
            "  -0.6123724356957945 0.5275935670422981 0.3291940446568087]\n",
            " [0.0 0.0 0.0 -0.316227766016838 3.1622776601683795 -0.316227766016838\n",
            "  -0.6123724356957945 -0.14376585631486766 1.777647841146766]\n",
            " [0.0 0.0 0.0 -0.316227766016838 -0.31622776601683794 -0.316227766016838\n",
            "  1.632993161855452 1.0646811057280308 -0.9123377809060119]]\n"
          ]
        }
      ]
    },
    {
      "cell_type": "code",
      "source": [
        "print(x_test)"
      ],
      "metadata": {
        "colab": {
          "base_uri": "https://localhost:8080/"
        },
        "id": "YytaKkm8GmvG",
        "outputId": "64f47869-291c-4522-8345-b58f7b35f066"
      },
      "execution_count": 84,
      "outputs": [
        {
          "output_type": "stream",
          "name": "stdout",
          "text": [
            "[[0.0 1.0 0.0 -0.316227766016838 -0.31622776601683794 -0.316227766016838\n",
            "  -0.6123724356957945 -0.7852870830783816 1.6741868556831976]\n",
            " [0.0 0.0 0.0 3.16227766016838 -0.31622776601683794 -0.316227766016838\n",
            "  -0.6123724356957945 -1.0836690490148997 1.1568819283653557]\n",
            " [0.0 1.0 0.0 -0.316227766016838 -0.31622776601683794 -0.316227766016838\n",
            "  -0.6123724356957945 -0.14376585631486766 1.777647841146766]]\n"
          ]
        }
      ]
    }
  ]
}